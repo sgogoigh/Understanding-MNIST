{
  "nbformat": 4,
  "nbformat_minor": 0,
  "metadata": {
    "colab": {
      "provenance": [],
      "authorship_tag": "ABX9TyPHVp3v/uw0p+lOVTcL7L30",
      "include_colab_link": true
    },
    "kernelspec": {
      "name": "python3",
      "display_name": "Python 3"
    },
    "language_info": {
      "name": "python"
    }
  },
  "cells": [
    {
      "cell_type": "markdown",
      "metadata": {
        "id": "view-in-github",
        "colab_type": "text"
      },
      "source": [
        "<a href=\"https://colab.research.google.com/github/sgogoigh/Understanding-MNIST/blob/main/Understanding_MNIST_.ipynb\" target=\"_parent\"><img src=\"https://colab.research.google.com/assets/colab-badge.svg\" alt=\"Open In Colab\"/></a>"
      ]
    },
    {
      "cell_type": "markdown",
      "source": [
        "# Understanding MNIST\n",
        "Here, we'll understand the dataset and how we'll classify using neural networks"
      ],
      "metadata": {
        "id": "aU1ipaXAvIxF"
      }
    },
    {
      "cell_type": "code",
      "execution_count": 6,
      "metadata": {
        "id": "ppVfzfY4t6BY"
      },
      "outputs": [],
      "source": [
        "from keras.datasets import mnist\n",
        "(train_images, train_labels), (test_images, test_labels) = mnist.load_data()\n",
        "\n",
        "# train_images & train_labels are training data\n",
        "# test_images & test_labels are testing data\n",
        "\n",
        "# mnist is an image dataset for image classification"
      ]
    },
    {
      "cell_type": "code",
      "source": [
        "train_labels\n",
        "# an array of identified digits"
      ],
      "metadata": {
        "colab": {
          "base_uri": "https://localhost:8080/"
        },
        "id": "5YeCuPKeukIr",
        "outputId": "ec189d57-b41e-47f2-c49c-236f98e15990"
      },
      "execution_count": 3,
      "outputs": [
        {
          "output_type": "execute_result",
          "data": {
            "text/plain": [
              "array([5, 0, 4, ..., 5, 6, 8], dtype=uint8)"
            ]
          },
          "metadata": {},
          "execution_count": 3
        }
      ]
    },
    {
      "cell_type": "code",
      "source": [
        "print(train_labels.shape)\n",
        "# 60000 labels\n",
        "\n",
        "print(train_images.shape)\n",
        "# 60000 images of 28x28 size\n",
        "\n",
        "print(train_images.dtype)\n",
        "# float32\n",
        "\n",
        "print(train_images.ndim)\n",
        "# 2 -> 2 dimensions"
      ],
      "metadata": {
        "colab": {
          "base_uri": "https://localhost:8080/"
        },
        "id": "pdeavxN_uwLW",
        "outputId": "a1765a4a-48d9-460f-e2f4-250df53620fb"
      },
      "execution_count": 14,
      "outputs": [
        {
          "output_type": "stream",
          "name": "stdout",
          "text": [
            "(60000, 10)\n",
            "(60000, 784)\n",
            "float32\n",
            "2\n"
          ]
        }
      ]
    },
    {
      "cell_type": "markdown",
      "source": [
        "## Adding layers to Neural Network"
      ],
      "metadata": {
        "id": "7froZ9cYvGb0"
      }
    },
    {
      "cell_type": "code",
      "source": [
        "from keras import layers\n",
        "from keras import models\n",
        "\n",
        "# sequencial model is where all data flows in layers in a sequencial manner\n",
        "# each layer has exactly one input tensor and one output tensor\n",
        "#       bad for - layer sharing, multiple ip/op, non-linear topology\n",
        "network = models.Sequential()\n",
        "\n",
        "# choosing first layer of\n",
        "#   dimensions of output face = 512\n",
        "#   activition function = relu func\n",
        "#   data input shape = 28*28 (batch_size * input_dimensions)\n",
        "network.add(layers.Dense(512, activation='relu', input_shape=(28 * 28,)))\n",
        "network.add(layers.Dense(10, activation='softmax'))\n",
        "\n",
        "# model.weights -> tells us the weights\n",
        "# model.summary -> layers, output shape, parameters in a tabular manner"
      ],
      "metadata": {
        "colab": {
          "base_uri": "https://localhost:8080/"
        },
        "id": "gg6A8PjDvFsm",
        "outputId": "47daf2ae-dc28-4a7b-fa6f-458f1d8b56f5"
      },
      "execution_count": 7,
      "outputs": [
        {
          "output_type": "stream",
          "name": "stderr",
          "text": [
            "/usr/local/lib/python3.11/dist-packages/keras/src/layers/core/dense.py:87: UserWarning: Do not pass an `input_shape`/`input_dim` argument to a layer. When using Sequential models, prefer using an `Input(shape)` object as the first layer in the model instead.\n",
            "  super().__init__(activity_regularizer=activity_regularizer, **kwargs)\n"
          ]
        }
      ]
    },
    {
      "cell_type": "markdown",
      "source": [
        "## Compilation of Network"
      ],
      "metadata": {
        "id": "qk-_Tou31ha4"
      }
    },
    {
      "cell_type": "code",
      "source": [
        "# we need to add few steps to compile network\n",
        "\n",
        "# optimizer -> how model updates itself\n",
        "# loss func -> measuring loss and minimizing this\n",
        "# metrics   -> measuring performance against something standardized\n",
        "\n",
        "network.compile(optimizer='rmsprop',\n",
        "                loss='categorical_crossentropy',\n",
        "                metrics=['accuracy'])\n",
        "\n",
        "# rmsprop -> root mean square propagation\n",
        "# categorical crossentropy -> used for multi-class classification (also called softmax/log loss),\n",
        "#                              measures the difference between the predicted probability distribution and the actual (true) distribution of classes.\n",
        "# accuracy -> correct/total"
      ],
      "metadata": {
        "id": "Efzc2vQzx6HD"
      },
      "execution_count": 8,
      "outputs": []
    },
    {
      "cell_type": "markdown",
      "source": [
        "## Preparing Data & Labels"
      ],
      "metadata": {
        "id": "zbUCutIr2ye4"
      }
    },
    {
      "cell_type": "code",
      "source": [
        "# preparing test and train to fit into the network for classification\n",
        "train_images = train_images.reshape((60000, 28 * 28))\n",
        "train_images = train_images.astype('float32') / 255\n",
        "\n",
        "test_images = test_images.reshape((10000, 28 * 28))\n",
        "test_images = test_images.astype('float32') / 255\n",
        "\n",
        "# categorical encoding of labels -> converting them to numerical form for easier processing\n",
        "from keras.utils import to_categorical\n",
        "train_labels = to_categorical(train_labels)\n",
        "test_labels = to_categorical(test_labels)"
      ],
      "metadata": {
        "id": "uqZw2qsW3PML"
      },
      "execution_count": 9,
      "outputs": []
    },
    {
      "cell_type": "markdown",
      "source": [
        "## Fitting the model"
      ],
      "metadata": {
        "id": "DzzbDKfL3-tG"
      }
    },
    {
      "cell_type": "code",
      "source": [
        "network.fit(train_images,\n",
        "            train_labels,\n",
        "            epochs=5,\n",
        "            batch_size=128)\n",
        "\n",
        "# train_images -> train data\n",
        "# train_labels -> train output\n",
        "# epoch        -> total number of iterations of all the training data in one cycle for training\n",
        "# batch-size   -> inputs per batch"
      ],
      "metadata": {
        "colab": {
          "base_uri": "https://localhost:8080/"
        },
        "id": "9t7lc0s73-Mj",
        "outputId": "018ea31f-3474-47e0-c627-dc606cc22cc9"
      },
      "execution_count": 10,
      "outputs": [
        {
          "output_type": "stream",
          "name": "stdout",
          "text": [
            "Epoch 1/5\n",
            "\u001b[1m469/469\u001b[0m \u001b[32m━━━━━━━━━━━━━━━━━━━━\u001b[0m\u001b[37m\u001b[0m \u001b[1m6s\u001b[0m 10ms/step - accuracy: 0.8737 - loss: 0.4362\n",
            "Epoch 2/5\n",
            "\u001b[1m469/469\u001b[0m \u001b[32m━━━━━━━━━━━━━━━━━━━━\u001b[0m\u001b[37m\u001b[0m \u001b[1m6s\u001b[0m 12ms/step - accuracy: 0.9668 - loss: 0.1115\n",
            "Epoch 3/5\n",
            "\u001b[1m469/469\u001b[0m \u001b[32m━━━━━━━━━━━━━━━━━━━━\u001b[0m\u001b[37m\u001b[0m \u001b[1m5s\u001b[0m 10ms/step - accuracy: 0.9784 - loss: 0.0707\n",
            "Epoch 4/5\n",
            "\u001b[1m469/469\u001b[0m \u001b[32m━━━━━━━━━━━━━━━━━━━━\u001b[0m\u001b[37m\u001b[0m \u001b[1m6s\u001b[0m 12ms/step - accuracy: 0.9843 - loss: 0.0505\n",
            "Epoch 5/5\n",
            "\u001b[1m469/469\u001b[0m \u001b[32m━━━━━━━━━━━━━━━━━━━━\u001b[0m\u001b[37m\u001b[0m \u001b[1m5s\u001b[0m 10ms/step - accuracy: 0.9892 - loss: 0.0366\n"
          ]
        },
        {
          "output_type": "execute_result",
          "data": {
            "text/plain": [
              "<keras.src.callbacks.history.History at 0x7fd4029187d0>"
            ]
          },
          "metadata": {},
          "execution_count": 10
        }
      ]
    },
    {
      "cell_type": "markdown",
      "source": [
        "## Testing Accuracy"
      ],
      "metadata": {
        "id": "TpOy5-bw4xTF"
      }
    },
    {
      "cell_type": "code",
      "source": [
        "# evaluate measures the performance based on metric chosen in network -> accuracy\n",
        "train_loss, train_acc = network.evaluate(train_images, train_labels)\n",
        "train_acc\n",
        "\n",
        "test_loss, test_acc = network.evaluate(test_images, test_labels)\n",
        "test_acc\n",
        "\n",
        "# 99.04% on train vs 97.35% on test\n",
        "#   since train_acc > test_acc -> hint of overfitting"
      ],
      "metadata": {
        "colab": {
          "base_uri": "https://localhost:8080/"
        },
        "id": "zOQ4BAun4zhW",
        "outputId": "cc88a730-431f-44bb-828a-ad879be5651f"
      },
      "execution_count": 13,
      "outputs": [
        {
          "output_type": "stream",
          "name": "stdout",
          "text": [
            "\u001b[1m1875/1875\u001b[0m \u001b[32m━━━━━━━━━━━━━━━━━━━━\u001b[0m\u001b[37m\u001b[0m \u001b[1m6s\u001b[0m 3ms/step - accuracy: 0.9904 - loss: 0.0328\n",
            "\u001b[1m313/313\u001b[0m \u001b[32m━━━━━━━━━━━━━━━━━━━━\u001b[0m\u001b[37m\u001b[0m \u001b[1m1s\u001b[0m 3ms/step - accuracy: 0.9735 - loss: 0.0806\n"
          ]
        },
        {
          "output_type": "execute_result",
          "data": {
            "text/plain": [
              "0.9778000116348267"
            ]
          },
          "metadata": {},
          "execution_count": 13
        }
      ]
    },
    {
      "cell_type": "markdown",
      "source": [
        "## Random Checking of Digit"
      ],
      "metadata": {
        "id": "gcj_CRTn6BSz"
      }
    },
    {
      "cell_type": "code",
      "source": [
        "# random choice of training data for visualization\n",
        "# data needs to be reshaped for plotting -> 28*28\n",
        "digit = train_images[4].reshape(28, 28)\n",
        "\n",
        "import matplotlib.pyplot as plt\n",
        "plt.imshow(digit, cmap=plt.cm.binary)\n",
        "plt.show()\n",
        "\n",
        "train_labels[4]\n",
        "# an array returned -> 9th index is 1, rest is 0 (label = 9)"
      ],
      "metadata": {
        "colab": {
          "base_uri": "https://localhost:8080/",
          "height": 447
        },
        "id": "eIOhVn5b6BC0",
        "outputId": "8d805093-fac1-4f95-89f9-15b5ec19f202"
      },
      "execution_count": 18,
      "outputs": [
        {
          "output_type": "display_data",
          "data": {
            "text/plain": [
              "<Figure size 640x480 with 1 Axes>"
            ],
            "image/png": "[encoded data removed]"
          },
          "metadata": {}
        },
        {
          "output_type": "execute_result",
          "data": {
            "text/plain": [
              "array([0., 0., 0., 0., 0., 0., 0., 0., 0., 1.])"
            ]
          },
          "metadata": {},
          "execution_count": 18
        }
      ]
    }
  ]
}